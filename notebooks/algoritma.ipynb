{
 "cells": [
  {
   "cell_type": "code",
   "execution_count": 23,
   "metadata": {},
   "outputs": [],
   "source": [
    "import pandas as pd\n",
    "import numpy as np\n",
    "import random\n",
    "from sklearn.model_selection import train_test_split\n",
    "\n",
    "# Veri seti boyutu\n",
    "n_samples = 1000\n",
    "\n",
    "# Veri seti özellikleri\n",
    "property_types = [\"oda\", \"daire\", \"villa\"]\n",
    "locations = [\"şehir merkezi\", \"kırsal\"]\n",
    "pool_options = [0, 1]  # 0: Yok, 1: Var\n",
    "wifi_options = [0, 1]  # 0: Yok, 1: Var\n",
    "breakfast_options = [0, 1]  # 0: Yok, 1: Var"
   ]
  },
  {
   "cell_type": "code",
   "execution_count": 24,
   "metadata": {},
   "outputs": [
    {
     "name": "stdout",
     "output_type": "stream",
     "text": [
      "Veri setinin ilk 5 satırı:\n",
      "  Ev Tipi          Konum  Oda Sayısı  Kişi Sayısı  Havuz  WiFi  Kahvaltı  \\\n",
      "0   daire  şehir merkezi           4            4      0     1         0   \n",
      "1     oda         kırsal           5            4      1     1         0   \n",
      "2     oda         kırsal           3            5      0     1         0   \n",
      "3     oda         kırsal           5            8      0     0         1   \n",
      "4   villa  şehir merkezi           5            5      0     0         1   \n",
      "\n",
      "   Günlük Fiyat  \n",
      "0           141  \n",
      "1           777  \n",
      "2           693  \n",
      "3           528  \n",
      "4           902  \n"
     ]
    }
   ],
   "source": [
    "# Veri seti oluşturma\n",
    "random.seed(42)\n",
    "np.random.seed(42)\n",
    "\n",
    "data = {\n",
    "    \"Ev Tipi\": random.choices(property_types, k=n_samples),\n",
    "    \"Konum\": random.choices(locations, k=n_samples),\n",
    "    \"Oda Sayısı\": np.random.randint(1, 6, size=n_samples),\n",
    "    \"Kişi Sayısı\": np.random.randint(1, 10, size=n_samples),\n",
    "    \"Havuz\": random.choices(pool_options, k=n_samples),\n",
    "    \"WiFi\": random.choices(wifi_options, k=n_samples),\n",
    "    \"Kahvaltı\": random.choices(breakfast_options, k=n_samples),\n",
    "    \"Günlük Fiyat\": np.random.randint(100, 1000, size=n_samples),\n",
    "}\n",
    "\n",
    "# DataFrame'e dönüştürme\n",
    "df = pd.DataFrame(data)\n",
    "\n",
    "# Veri setinin ilk 5 satırını ekrana yazdırma\n",
    "print(\"Veri setinin ilk 5 satırı:\")\n",
    "print(df.head())"
   ]
  },
  {
   "cell_type": "code",
   "execution_count": 25,
   "metadata": {},
   "outputs": [],
   "source": [
    "# Kategorik verileri one-hot encoding ile sayısal hale getirme\n",
    "if \"Ev Tipi\" in df.columns and \"Konum\" in df.columns:\n",
    "    df = pd.get_dummies(df, columns=[\"Ev Tipi\", \"Konum\"], drop_first=True)\n",
    "else:\n",
    "    print(\"Hata: Kategorik kolonlar bulunamadı!\")\n",
    "\n",
    "# Özellikler (X) ve hedef sütunu (Y) ayırma\n",
    "if \"Günlük Fiyat\" in df.columns:\n",
    "    X = df.drop(\"Günlük Fiyat\", axis=1)\n",
    "    y = df[\"Günlük Fiyat\"]\n",
    "else:\n",
    "    print(\"Hata: Hedef kolon (Günlük Fiyat) bulunamadı!\")\n",
    "    X = pd.DataFrame()\n",
    "    y = pd.Series()\n"
   ]
  },
  {
   "cell_type": "code",
   "execution_count": null,
   "metadata": {},
   "outputs": [
    {
     "name": "stdout",
     "output_type": "stream",
     "text": [
      "\n",
      "Eğitim ve test setlerinin boyutları:\n",
      "X_train: (800, 8), X_test: (200, 8)\n",
      "y_train: (800,), y_test: (200,)\n"
     ]
    }
   ],
   "source": [
    "# Eğitim ve test setlerine ayırma\n",
    "if not X.empty and not y.empty:\n",
    "    X_train, X_test, y_train, y_test = train_test_split(X, y, test_size=0.2, random_state=42)\n",
    "\n",
    "    # Eğitim ve test setlerinin boyutlarını ekrana yazdırma\n",
    "    print(\"\\nEğitim ve test setlerinin boyutları:\")\n",
    "    print(f\"X_train: {X_train.shape}, X_test: {X_test.shape}\")\n",
    "    print(f\"y_train: {y_train.shape}, y_test: {y_test.shape}\")\n",
    "    \n",
    "    print(\"\\nVeri ön işleme tamamlandı ve veriler kaydedildi!\")\n",
    "else:\n",
    "    print(\"Hata: Eğitim ve test setleri oluşturulamadı!\")"
   ]
  }
 ],
 "metadata": {
  "kernelspec": {
   "display_name": "ML",
   "language": "python",
   "name": "python3"
  },
  "language_info": {
   "codemirror_mode": {
    "name": "ipython",
    "version": 3
   },
   "file_extension": ".py",
   "mimetype": "text/x-python",
   "name": "python",
   "nbconvert_exporter": "python",
   "pygments_lexer": "ipython3",
   "version": "3.12.7"
  }
 },
 "nbformat": 4,
 "nbformat_minor": 2
}
