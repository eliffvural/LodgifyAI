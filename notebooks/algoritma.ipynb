{
 "cells": [
  {
   "cell_type": "code",
   "execution_count": 1,
   "metadata": {},
   "outputs": [],
   "source": [
    "import pandas as pd\n",
    "import numpy as np\n",
    "from sklearn.model_selection import train_test_split\n",
    "from sklearn.linear_model import LinearRegression, Ridge, Lasso\n",
    "from sklearn.tree import DecisionTreeRegressor\n",
    "from sklearn.ensemble import RandomForestRegressor, GradientBoostingRegressor, AdaBoostRegressor\n",
    "from sklearn.svm import SVR\n",
    "from sklearn.neighbors import KNeighborsRegressor\n",
    "from sklearn.neural_network import MLPRegressor\n",
    "from sklearn.metrics import mean_squared_error\n",
    "import joblib\n",
    "\n",
    "# Veriyi yükleme\n",
    "df = pd.read_csv(\"../data/veri.csv\")\n",
    "\n",
    "# Eğitim ve test setlerini oluştur\n",
    "X = df.drop(\"Günlük Fiyat\", axis=1)\n",
    "y = df[\"Günlük Fiyat\"]\n",
    "\n",
    "\n",
    "# Eğitim ve test setlerine ayırma\n",
    "X_train, X_test, y_train, y_test = train_test_split(X, y, test_size=0.2, random_state=42)\n"
   ]
  },
  {
   "cell_type": "code",
   "execution_count": 2,
   "metadata": {},
   "outputs": [
    {
     "name": "stdout",
     "output_type": "stream",
     "text": [
      "Model: Linear Regression\n",
      "RMSE: 0.0000\n",
      "\n",
      "Model: Ridge Regression\n",
      "RMSE: 0.1268\n",
      "\n",
      "Model: Lasso Regression\n",
      "RMSE: 4.7104\n",
      "\n",
      "Model: Decision Tree\n",
      "RMSE: 14.2021\n",
      "\n",
      "Model: Random Forest\n"
     ]
    },
    {
     "name": "stderr",
     "output_type": "stream",
     "text": [
      "c:\\Users\\elifv\\anaconda3\\envs\\ML\\Lib\\site-packages\\sklearn\\metrics\\_regression.py:492: FutureWarning: 'squared' is deprecated in version 1.4 and will be removed in 1.6. To calculate the root mean squared error, use the function'root_mean_squared_error'.\n",
      "  warnings.warn(\n",
      "c:\\Users\\elifv\\anaconda3\\envs\\ML\\Lib\\site-packages\\sklearn\\metrics\\_regression.py:492: FutureWarning: 'squared' is deprecated in version 1.4 and will be removed in 1.6. To calculate the root mean squared error, use the function'root_mean_squared_error'.\n",
      "  warnings.warn(\n",
      "c:\\Users\\elifv\\anaconda3\\envs\\ML\\Lib\\site-packages\\sklearn\\metrics\\_regression.py:492: FutureWarning: 'squared' is deprecated in version 1.4 and will be removed in 1.6. To calculate the root mean squared error, use the function'root_mean_squared_error'.\n",
      "  warnings.warn(\n",
      "c:\\Users\\elifv\\anaconda3\\envs\\ML\\Lib\\site-packages\\sklearn\\metrics\\_regression.py:492: FutureWarning: 'squared' is deprecated in version 1.4 and will be removed in 1.6. To calculate the root mean squared error, use the function'root_mean_squared_error'.\n",
      "  warnings.warn(\n",
      "c:\\Users\\elifv\\anaconda3\\envs\\ML\\Lib\\site-packages\\sklearn\\metrics\\_regression.py:492: FutureWarning: 'squared' is deprecated in version 1.4 and will be removed in 1.6. To calculate the root mean squared error, use the function'root_mean_squared_error'.\n",
      "  warnings.warn(\n",
      "c:\\Users\\elifv\\anaconda3\\envs\\ML\\Lib\\site-packages\\sklearn\\metrics\\_regression.py:492: FutureWarning: 'squared' is deprecated in version 1.4 and will be removed in 1.6. To calculate the root mean squared error, use the function'root_mean_squared_error'.\n",
      "  warnings.warn(\n"
     ]
    },
    {
     "name": "stdout",
     "output_type": "stream",
     "text": [
      "RMSE: 9.3185\n",
      "\n",
      "Model: Gradient Boosting\n",
      "RMSE: 6.7611\n",
      "\n",
      "Model: AdaBoost\n"
     ]
    },
    {
     "name": "stderr",
     "output_type": "stream",
     "text": [
      "c:\\Users\\elifv\\anaconda3\\envs\\ML\\Lib\\site-packages\\sklearn\\metrics\\_regression.py:492: FutureWarning: 'squared' is deprecated in version 1.4 and will be removed in 1.6. To calculate the root mean squared error, use the function'root_mean_squared_error'.\n",
      "  warnings.warn(\n"
     ]
    },
    {
     "name": "stdout",
     "output_type": "stream",
     "text": [
      "RMSE: 46.8823\n",
      "\n",
      "Model: Support Vector Machine\n"
     ]
    },
    {
     "name": "stderr",
     "output_type": "stream",
     "text": [
      "c:\\Users\\elifv\\anaconda3\\envs\\ML\\Lib\\site-packages\\sklearn\\metrics\\_regression.py:492: FutureWarning: 'squared' is deprecated in version 1.4 and will be removed in 1.6. To calculate the root mean squared error, use the function'root_mean_squared_error'.\n",
      "  warnings.warn(\n",
      "c:\\Users\\elifv\\anaconda3\\envs\\ML\\Lib\\site-packages\\sklearn\\metrics\\_regression.py:492: FutureWarning: 'squared' is deprecated in version 1.4 and will be removed in 1.6. To calculate the root mean squared error, use the function'root_mean_squared_error'.\n",
      "  warnings.warn(\n"
     ]
    },
    {
     "name": "stdout",
     "output_type": "stream",
     "text": [
      "RMSE: 129.9541\n",
      "\n",
      "Model: K-Neighbors Regressor\n",
      "RMSE: 42.2332\n",
      "\n",
      "Model: Neural Network (MLP)\n",
      "RMSE: 0.3163\n",
      "\n",
      "En iyi model kaydedildi: LinearRegression ile RMSE: 0.0000\n"
     ]
    },
    {
     "name": "stderr",
     "output_type": "stream",
     "text": [
      "c:\\Users\\elifv\\anaconda3\\envs\\ML\\Lib\\site-packages\\sklearn\\neural_network\\_multilayer_perceptron.py:690: ConvergenceWarning: Stochastic Optimizer: Maximum iterations (500) reached and the optimization hasn't converged yet.\n",
      "  warnings.warn(\n",
      "c:\\Users\\elifv\\anaconda3\\envs\\ML\\Lib\\site-packages\\sklearn\\metrics\\_regression.py:492: FutureWarning: 'squared' is deprecated in version 1.4 and will be removed in 1.6. To calculate the root mean squared error, use the function'root_mean_squared_error'.\n",
      "  warnings.warn(\n"
     ]
    }
   ],
   "source": [
    "# Algoritma listesi\n",
    "algorithms = {\n",
    "    \"Linear Regression\": LinearRegression(),\n",
    "    \"Ridge Regression\": Ridge(),\n",
    "    \"Lasso Regression\": Lasso(),\n",
    "    \"Decision Tree\": DecisionTreeRegressor(),\n",
    "    \"Random Forest\": RandomForestRegressor(),\n",
    "    \"Gradient Boosting\": GradientBoostingRegressor(),\n",
    "    \"AdaBoost\": AdaBoostRegressor(),\n",
    "    \"Support Vector Machine\": SVR(),\n",
    "    \"K-Neighbors Regressor\": KNeighborsRegressor(),\n",
    "    \"Neural Network (MLP)\": MLPRegressor(max_iter=500)\n",
    "}\n",
    "\n",
    "# Modelleri eğit ve değerlendir\n",
    "best_model = RandomForestRegressor(random_state=42)\n",
    "\n",
    "best_rmse = float(\"inf\")\n",
    "results = []\n",
    "\n",
    "for name, model in algorithms.items():\n",
    "    print(f\"Model: {name}\")\n",
    "    model.fit(X_train, y_train)\n",
    "    predictions = model.predict(X_test)\n",
    "    rmse = mean_squared_error(y_test, predictions, squared=False)\n",
    "    results.append((name, rmse))\n",
    "    print(f\"RMSE: {rmse:.4f}\\n\")\n",
    "    if rmse < best_rmse:\n",
    "        best_rmse = rmse\n",
    "        best_model = model\n",
    "\n",
    "# En iyi modeli kaydet\n",
    "joblib.dump(best_model, \"../models/eniyi.joblib\")\n",
    "print(f\"En iyi model kaydedildi: {type(best_model).__name__} ile RMSE: {best_rmse:.4f}\")\n"
   ]
  },
  {
   "cell_type": "code",
   "execution_count": 3,
   "metadata": {},
   "outputs": [
    {
     "name": "stdout",
     "output_type": "stream",
     "text": [
      "\n",
      "Model Performans Sonuçları:\n",
      "Linear Regression: RMSE = 0.0000\n",
      "Ridge Regression: RMSE = 0.1268\n",
      "Lasso Regression: RMSE = 4.7104\n",
      "Decision Tree: RMSE = 14.2021\n",
      "Random Forest: RMSE = 9.3185\n",
      "Gradient Boosting: RMSE = 6.7611\n",
      "AdaBoost: RMSE = 46.8823\n",
      "Support Vector Machine: RMSE = 129.9541\n",
      "K-Neighbors Regressor: RMSE = 42.2332\n",
      "Neural Network (MLP): RMSE = 0.3163\n"
     ]
    }
   ],
   "source": [
    "print(\"\\nModel Performans Sonuçları:\")\n",
    "for name, rmse in results:\n",
    "    print(f\"{name}: RMSE = {rmse:.4f}\")\n"
   ]
  },
  {
   "cell_type": "code",
   "execution_count": 4,
   "metadata": {},
   "outputs": [
    {
     "name": "stdout",
     "output_type": "stream",
     "text": [
      "Model yeniden eğitildi ve kaydedildi.\n"
     ]
    }
   ],
   "source": [
    "# Eğitim ve test setlerini oluştur\n",
    "import pandas as pd\n",
    "\n",
    "# Assuming the CSV file is in the same directory as the notebook\n",
    "\n",
    "df = pd.read_csv(\"../data/veri.csv\")\n",
    "\n",
    "X = df.drop(\"Günlük Fiyat\", axis=1)\n",
    "y = df[\"Günlük Fiyat\"]\n",
    "\n",
    "X_train, X_test, y_train, y_test = train_test_split(X, y, test_size=0.2, random_state=42)\n",
    "\n",
    "# Modeli eğitme\n",
    "best_model = RandomForestRegressor(random_state=42)\n",
    "best_model.fit(X_train, y_train)\n",
    "\n",
    "# Modeli kaydet\n",
    "\n",
    "from joblib import dump\n",
    "\n",
    "dump(best_model, \"../models/eniyi.joblib\")\n",
    "print(\"Model yeniden eğitildi ve kaydedildi.\")\n"
   ]
  }
 ],
 "metadata": {
  "kernelspec": {
   "display_name": "ML",
   "language": "python",
   "name": "python3"
  },
  "language_info": {
   "codemirror_mode": {
    "name": "ipython",
    "version": 3
   },
   "file_extension": ".py",
   "mimetype": "text/x-python",
   "name": "python",
   "nbconvert_exporter": "python",
   "pygments_lexer": "ipython3",
   "version": "3.12.7"
  }
 },
 "nbformat": 4,
 "nbformat_minor": 2
}
