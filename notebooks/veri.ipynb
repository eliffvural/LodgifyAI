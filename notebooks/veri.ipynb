{
 "cells": [
  {
   "cell_type": "code",
   "execution_count": 6,
   "metadata": {},
   "outputs": [],
   "source": [
    "import pandas as pd\n",
    "import numpy as np\n",
    "import random\n",
    "\n",
    "# Özellikler\n",
    "ev_tipleri = [\"Oda\", \"Daire\", \"Villa\"]\n",
    "konumlar = [\"Şehir Merkezi\", \"Kırsal\"]\n",
    "ek_hizmetler = [\"Havuz\", \"WiFi\", \"Kahvaltı\"]\n",
    "\n",
    "# Veri üretimi\n",
    "def veri_uret(n_samples=500):\n",
    "    data = []\n",
    "    for _ in range(n_samples):\n",
    "        ev_tipi = random.choice(ev_tipleri)\n",
    "        konum = random.choice(konumlar)\n",
    "        oda_sayisi = random.randint(1, 5)\n",
    "        kisi_sayisi = random.randint(1, 10)\n",
    "        hizmet_sayisi = random.randint(0, len(ek_hizmetler))\n",
    "        \n",
    "        # Hizmetler binary: seçili mi seçili değil mi\n",
    "        hizmetler = [random.choice([0, 1]) for _ in ek_hizmetler]\n",
    "        \n",
    "        # Fiyat tahmini\n",
    "        fiyat = (\n",
    "            50  # Temel fiyat\n",
    "            + (ev_tipleri.index(ev_tipi) * 50)  # Ev tipi etkisi\n",
    "            + (konumlar.index(konum) * 75)  # Konum etkisi\n",
    "            + (oda_sayisi * 20)  # Oda sayısı etkisi\n",
    "            + (kisi_sayisi * 15)  # Kişi sayısı etkisi\n",
    "            + (sum(hizmetler) * 25)  # Ek hizmetler etkisi\n",
    "        )\n",
    "        data.append([ev_tipi, konum, oda_sayisi, kisi_sayisi] + hizmetler + [fiyat])\n",
    "    \n",
    "    # Kolon adları\n",
    "    columns = [\"Ev Tipi\", \"Konum\", \"Oda Sayısı\", \"Kişi Sayısı\"] + ek_hizmetler + [\"Fiyat\"]\n",
    "    return pd.DataFrame(data, columns=columns)\n",
    "\n",
    "# Veri setini oluştur\n",
    "veri_seti = veri_uret()\n",
    "\n",
    "# Kaydet\n",
    "veri_seti.to_csv('../data/veri.csv', index=False)\n"
   ]
  }
 ],
 "metadata": {
  "kernelspec": {
   "display_name": "ML",
   "language": "python",
   "name": "python3"
  },
  "language_info": {
   "codemirror_mode": {
    "name": "ipython",
    "version": 3
   },
   "file_extension": ".py",
   "mimetype": "text/x-python",
   "name": "python",
   "nbconvert_exporter": "python",
   "pygments_lexer": "ipython3",
   "version": "3.12.7"
  }
 },
 "nbformat": 4,
 "nbformat_minor": 2
}
