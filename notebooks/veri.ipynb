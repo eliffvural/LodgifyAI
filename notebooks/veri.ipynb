{
 "cells": [
  {
   "cell_type": "code",
   "execution_count": 3,
   "metadata": {},
   "outputs": [
    {
     "name": "stdout",
     "output_type": "stream",
     "text": [
      "Veri seti başarıyla oluşturuldu ve 'veri.csv' dosyasına kaydedildi!\n"
     ]
    }
   ],
   "source": [
    "# Gerekli kütüphaneleri import et\n",
    "import pandas as pd\n",
    "import numpy as np\n",
    "\n",
    "# Veri seti oluşturma\n",
    "np.random.seed(42)  # Rastgeleliği kontrol etmek için sabit bir seed\n",
    "\n",
    "# Örnek veri boyutu\n",
    "num_samples = 1000\n",
    "\n",
    "# Özellikler\n",
    "ev_tipleri = ['oda', 'daire', 'villa']\n",
    "konumlar = ['şehir merkezi', 'kırsal']\n",
    "ek_hizmetler = ['havuz', 'WiFi', 'kahvaltı']\n",
    "\n",
    "# Veri üretimi\n",
    "data = {\n",
    "    'Ev Tipi': np.random.choice(ev_tipleri, size=num_samples),\n",
    "    'Konum': np.random.choice(konumlar, size=num_samples),\n",
    "    'Oda Sayısı': np.random.randint(1, 6, size=num_samples),\n",
    "    'Konaklayabilecek Kişi Sayısı': np.random.randint(1, 11, size=num_samples),\n",
    "    'Havuz': np.random.randint(0, 2, size=num_samples),\n",
    "    'WiFi': np.random.randint(0, 2, size=num_samples),\n",
    "    'Kahvaltı': np.random.randint(0, 2, size=num_samples),\n",
    "}\n",
    "\n",
    "# Fiyat: Rastgele bir formül ile\n",
    "data['Fiyat'] = (\n",
    "    np.random.randint(50, 200, size=num_samples)  # Temel fiyat\n",
    "    + (data['Oda Sayısı'] * 10)  # Oda sayısına göre artış\n",
    "    + (data['Konaklayabilecek Kişi Sayısı'] * 5)  # Kişi sayısına göre artış\n",
    "    + (data['Havuz'] * 50)  # Havuz varlığı fiyatı artırır\n",
    "    + (data['WiFi'] * 20)  # WiFi fiyatı artırır\n",
    "    + (data['Kahvaltı'] * 15)  # Kahvaltı fiyatı artırır\n",
    ")\n",
    "\n",
    "# Veri çerçevesi oluştur\n",
    "df = pd.DataFrame(data)\n",
    "\n",
    "# Veri setini kaydet\n",
    "df.to_csv('veri.csv', index=False)\n",
    "\n",
    "print(\"Veri seti başarıyla oluşturuldu ve 'veri.csv' dosyasına kaydedildi!\")\n"
   ]
  }
 ],
 "metadata": {
  "kernelspec": {
   "display_name": "ML",
   "language": "python",
   "name": "python3"
  },
  "language_info": {
   "codemirror_mode": {
    "name": "ipython",
    "version": 3
   },
   "file_extension": ".py",
   "mimetype": "text/x-python",
   "name": "python",
   "nbconvert_exporter": "python",
   "pygments_lexer": "ipython3",
   "version": "3.12.7"
  }
 },
 "nbformat": 4,
 "nbformat_minor": 2
}
