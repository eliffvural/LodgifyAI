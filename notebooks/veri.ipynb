{
 "cells": [
  {
   "cell_type": "code",
   "execution_count": 1,
   "metadata": {},
   "outputs": [
    {
     "name": "stdout",
     "output_type": "stream",
     "text": [
      "Veri seti oluşturuldu ve kaydedildi.\n"
     ]
    }
   ],
   "source": [
    "import pandas as pd\n",
    "import numpy as np\n",
    "import random\n",
    "\n",
    "# Veri seti boyutu\n",
    "n_samples = 5000\n",
    "\n",
    "# Veri seti özellikleri\n",
    "property_types = [\"oda\", \"daire\", \"villa\"]\n",
    "locations = [\"şehir merkezi\", \"kırsal\"]\n",
    "pool_options = [0, 1]  # 0: Yok, 1: Var\n",
    "wifi_options = [0, 1]  # 0: Yok, 1: Var\n",
    "breakfast_options = [0, 1]  # 0: Yok, 1: Var\n",
    "\n",
    "# Veri setini oluşturma\n",
    "random.seed(42)\n",
    "np.random.seed(42)\n",
    "\n",
    "data = {\n",
    "    \"Ev Tipi\": random.choices(property_types, k=n_samples),\n",
    "    \"Konum\": random.choices(locations, k=n_samples),\n",
    "    \"Oda Sayısı\": np.random.randint(1, 10, size=n_samples),\n",
    "    \"Kişi Sayısı\": np.random.randint(1, 15, size=n_samples),\n",
    "    \"Havuz\": random.choices(pool_options, k=n_samples),\n",
    "    \"WiFi\": random.choices(wifi_options, k=n_samples),\n",
    "    \"Kahvaltı\": random.choices(breakfast_options, k=n_samples),\n",
    "}\n",
    "\n",
    "# Fiyat ilişkileri oluştur\n",
    "fiyatlar = []\n",
    "for i in range(n_samples):\n",
    "    base_price = 100  # Temel fiyat\n",
    "    if data[\"Ev Tipi\"][i] == \"oda\":\n",
    "        base_price += 50\n",
    "    elif data[\"Ev Tipi\"][i] == \"daire\":\n",
    "        base_price += 150\n",
    "    elif data[\"Ev Tipi\"][i] == \"villa\":\n",
    "        base_price += 300\n",
    "\n",
    "    if data[\"Konum\"][i] == \"şehir merkezi\":\n",
    "        base_price += 200\n",
    "    elif data[\"Konum\"][i] == \"kırsal\":\n",
    "        base_price += 50\n",
    "\n",
    "    # Ek hizmetlerin fiyat etkisi\n",
    "    base_price += data[\"Havuz\"][i] * 100\n",
    "    base_price += data[\"WiFi\"][i] * 50\n",
    "    base_price += data[\"Kahvaltı\"][i] * 30\n",
    "\n",
    "    # Oda ve kişi sayısının etkisi\n",
    "    base_price += data[\"Oda Sayısı\"][i] * 20\n",
    "    base_price += data[\"Kişi Sayısı\"][i] * 10\n",
    "\n",
    "    fiyatlar.append(base_price)\n",
    "\n",
    "data[\"Günlük Fiyat\"] = fiyatlar\n",
    "\n",
    "# DataFrame'e dönüştürme ve one-hot encoding\n",
    "df = pd.DataFrame(data)\n",
    "df = pd.get_dummies(df, columns=[\"Ev Tipi\", \"Konum\"], drop_first=True)\n",
    "\n",
    "# Veriyi kaydetme\n",
    "df.to_csv(\"../data/veri.csv\", index=False)\n",
    "print(\"Veri seti oluşturuldu ve kaydedildi.\")\n"
   ]
  }
 ],
 "metadata": {
  "kernelspec": {
   "display_name": "ML",
   "language": "python",
   "name": "python3"
  },
  "language_info": {
   "codemirror_mode": {
    "name": "ipython",
    "version": 3
   },
   "file_extension": ".py",
   "mimetype": "text/x-python",
   "name": "python",
   "nbconvert_exporter": "python",
   "pygments_lexer": "ipython3",
   "version": "3.12.7"
  }
 },
 "nbformat": 4,
 "nbformat_minor": 2
}
