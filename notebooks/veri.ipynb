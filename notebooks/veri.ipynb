{
 "cells": [
  {
   "cell_type": "code",
   "execution_count": 2,
   "metadata": {},
   "outputs": [
    {
     "name": "stdout",
     "output_type": "stream",
     "text": [
      "Veri seti başarıyla oluşturuldu ve '../data/veri.csv' dosyasına kaydedildi!\n"
     ]
    }
   ],
   "source": [
    "import pandas as pd\n",
    "import numpy as np\n",
    "import random\n",
    "\n",
    "# Veri seti boyutu\n",
    "n_samples = 5000\n",
    "\n",
    "# Veri seti özellikleri\n",
    "property_types = [\"oda\", \"daire\", \"villa\"]\n",
    "locations = [\"şehir merkezi\", \"kırsal\"]\n",
    "pool_options = [0, 1]  # 0: Yok, 1: Var\n",
    "wifi_options = [0, 1]  # 0: Yok, 1: Var\n",
    "breakfast_options = [0, 1]  # 0: Yok, 1: Var\n",
    "\n",
    "# Veri seti oluşturma\n",
    "random.seed(42)\n",
    "np.random.seed(42)\n",
    "\n",
    "data = {\n",
    "    \"Ev Tipi\": random.choices(property_types, k=n_samples),\n",
    "    \"Konum\": random.choices(locations, k=n_samples),\n",
    "    \"Oda Sayısı\": np.random.randint(1, 6, size=n_samples),\n",
    "    \"Kişi Sayısı\": np.random.randint(1, 10, size=n_samples),\n",
    "    \"Havuz\": random.choices(pool_options, k=n_samples),\n",
    "    \"WiFi\": random.choices(wifi_options, k=n_samples),\n",
    "    \"Kahvaltı\": random.choices(breakfast_options, k=n_samples),\n",
    "    \"Günlük Fiyat\": np.random.randint(100, 1000, size=n_samples),\n",
    "}\n",
    "\n",
    "# DataFrame'e dönüştürme\n",
    "df = pd.DataFrame(data)\n",
    "\n",
    "# Dosyayı kaydetme\n",
    "df.to_csv(\"../data/veri.csv\", index=False)\n",
    "\n",
    "print(\"Veri seti başarıyla oluşturuldu ve '../data/veri.csv' dosyasına kaydedildi!\")\n"
   ]
  }
 ],
 "metadata": {
  "kernelspec": {
   "display_name": "ML",
   "language": "python",
   "name": "python3"
  },
  "language_info": {
   "codemirror_mode": {
    "name": "ipython",
    "version": 3
   },
   "file_extension": ".py",
   "mimetype": "text/x-python",
   "name": "python",
   "nbconvert_exporter": "python",
   "pygments_lexer": "ipython3",
   "version": "3.12.7"
  }
 },
 "nbformat": 4,
 "nbformat_minor": 2
}
